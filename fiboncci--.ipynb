{
 "cells": [
  {
   "cell_type": "code",
   "execution_count": 8,
   "id": "71215cc3",
   "metadata": {},
   "outputs": [
    {
     "name": "stdout",
     "output_type": "stream",
     "text": [
      "[0, 1, 1, 2, 3, 5, 8, 13, 21, 34]\n"
     ]
    }
   ],
   "source": [
    "#fiboncci number = 0,1,1,2,3,5,8,13,21,34\n",
    "n1 = 0\n",
    "n2 = 1\n",
    "\n",
    "f =[n1,n2]\n",
    "i=1\n",
    "\n",
    "while i < 9:\n",
    "    n3 = n1+n2\n",
    "    f.append(n3)\n",
    "    n1=n2\n",
    "    n2=n3\n",
    "  \n",
    "    i += 1\n",
    "    \n",
    "print(f)\n"
   ]
  }
 ],
 "metadata": {
  "kernelspec": {
   "display_name": "Python 3 (ipykernel)",
   "language": "python",
   "name": "python3"
  },
  "language_info": {
   "codemirror_mode": {
    "name": "ipython",
    "version": 3
   },
   "file_extension": ".py",
   "mimetype": "text/x-python",
   "name": "python",
   "nbconvert_exporter": "python",
   "pygments_lexer": "ipython3",
   "version": "3.10.2"
  }
 },
 "nbformat": 4,
 "nbformat_minor": 5
}
